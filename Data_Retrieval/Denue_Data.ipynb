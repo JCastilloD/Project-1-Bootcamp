{
 "cells": [
  {
   "cell_type": "code",
   "execution_count": 1,
   "metadata": {},
   "outputs": [],
   "source": [
    "import matplotlib.pyplot as plt\n",
    "import pandas as pd\n",
    "import numpy as np\n",
    "import requests\n",
    "import gmaps\n",
    "import os\n",
    "\n",
    "# Import API key\n",
    "from config import inegi_key #inegi token\n",
    "from config import coneval_key #coneval\n",
    "from config import gkey #google key"
   ]
  },
  {
   "cell_type": "code",
   "execution_count": 2,
   "metadata": {},
   "outputs": [
    {
     "name": "stdout",
     "output_type": "stream",
     "text": [
      "https://www.inegi.org.mx/app/api/denue/v1/consulta/BuscarAreaActEstr/15/0/0/0/0/0/0/0/0/0/1/25/0/0/[8455939b-9726-bb8c-c70d-681609b40110]\n",
      "8455939b-9726-bb8c-c70d-681609b40110\n"
     ]
    }
   ],
   "source": [
    "\n",
    "\n",
    "url = \"https://www.inegi.org.mx/app/api/denue/v1/consulta/BuscarAreaActEstr\"\n",
    "#declare parameters\n",
    "\n",
    "EntFed = \"15\" #entidad federativa\n",
    "Mpo    = \"0\" #municipio dentro de la entidad federativa\n",
    "Loc    = \"0\" #loc dentro del mpo\n",
    "AGEB   = \"0\" #AGEB no sé que es AGEB\n",
    "Mnz    = \"0\" #manzana tres dígitos\n",
    "Sector = \"0\" # Sector de la actividad económica (ej. 46 )\n",
    "Subsec = \"0\" # Subsector de la actividad económica (ej. 464 )\n",
    "Rama   = \"0\" #Rama de la actividad económica (ej. 4641)\n",
    "Clase  = \"0\" #Clase de la actividad económica (ej. 464112)\n",
    "Nomest = \"0\" # Nombre del establecimiento\n",
    "Regini = \"1\" #Número de registro a partir del cuál se mostrarán los resultados de la búsqueda. \n",
    "Regfin = \"25\" #Número de registro final que se mostrará en resultados de la búsqueda. \n",
    "Id     = \"0\" #Clave única del establecimiento.\n",
    "Estr   = \"0\" # Clave de un dígito del estrato. Para incluir todos los tamaños se especifica 0.\n",
    "                #1. Para incluir de 0 a 5 personas.\n",
    "                #2. Para incluir de 6 a 10 personas.\n",
    "                #3. Para incluir de 11 a 30 personas.\n",
    "                #4. Para incluir de 31 a 50 personas.\n",
    "                #5. Para incluir de 51 a 100 personas.\n",
    "                #6. Para incluir de 101 a 250 personas.\n",
    "                #7. Para incluir de 251 y más person\n",
    "\n",
    "#Ejemplo\n",
    "#https://www.inegi.org.mx/app/api/denue/v1/consulta/BuscarAreaActEstr/01/0/0/0/0/0/0/0/0/oxxo/1/15/0/1/[Aquí va tu token]\n",
    "#https://www.inegi.org.mx/app/api/denue/v1/consulta/BuscarAreaActEstr/01/0/0/0/0/0/0/0/0/oxxo/1/15/0/1/[8455939b-9726-bb8c-c70d-681609b40110]\n",
    "#https://www.inegi.org.mx/app/api/denue/v1/consulta/BuscarAreaActEstr/01/0/0/0/0/0/0/0/0/oxxo/1/15/0/1/[5537bc61-be6f-dddf-a592-e3cd4417e515]\n",
    "\n",
    "\n",
    "urlconsulta = url + \"/\" + EntFed + \"/\" + Mpo + \"/\" + Loc + \"/\" + AGEB + \"/\" + Mnz + \"/\" + Sector + \"/\" + Subsec + \"/\" + Rama + \"/\" + Clase + \"/\" + Nomest + \"/\" + Regini + \"/\" + Regfin + \"/\" + Id + \"/\" + Estr + \"/\" + \"[\" + inegi_key + \"]\"\n",
    "\n",
    "print(urlconsulta)\n",
    "print(inegi_key)"
   ]
  },
  {
   "cell_type": "code",
   "execution_count": null,
   "metadata": {},
   "outputs": [],
   "source": []
  }
 ],
 "metadata": {
  "kernelspec": {
   "display_name": "Python [conda env:PythonData] *",
   "language": "python",
   "name": "conda-env-PythonData-py"
  },
  "language_info": {
   "codemirror_mode": {
    "name": "ipython",
    "version": 3
   },
   "file_extension": ".py",
   "mimetype": "text/x-python",
   "name": "python",
   "nbconvert_exporter": "python",
   "pygments_lexer": "ipython3",
   "version": "3.6.9"
  }
 },
 "nbformat": 4,
 "nbformat_minor": 2
}
